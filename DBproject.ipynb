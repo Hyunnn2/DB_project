{
 "cells": [
  {
   "cell_type": "code",
   "execution_count": 1,
   "id": "b113a07c-7711-44db-b2d3-a38a0e163176",
   "metadata": {
    "tags": []
   },
   "outputs": [],
   "source": [
    "%load_ext sql\n",
    "%sql sqlite:///DBproject.db"
   ]
  },
  {
   "cell_type": "code",
   "execution_count": 2,
   "id": "70bf0a9b-6fae-4e89-aba0-b5e0e9680529",
   "metadata": {},
   "outputs": [
    {
     "name": "stdout",
     "output_type": "stream",
     "text": [
      " * sqlite:///DBproject.db\n",
      "(sqlite3.OperationalError) database is locked\n",
      "[SQL: drop table if exists Member;]\n",
      "(Background on this error at: https://sqlalche.me/e/20/e3q8)\n"
     ]
    }
   ],
   "source": [
    "%%sql\n",
    "drop table if exists Member;\n",
    "\n",
    "CREATE TABLE Member ( \n",
    "    Member_id text NOT NULL,\n",
    "    Name text Not NULL,\n",
    "    Birthday text Not NULL,\n",
    "    Age_group text Not NULL,\n",
    "    Address text Not NULL,\n",
    "    Phone text Not NULL,\n",
    "    Gender text Not NULL,\n",
    "    Locker_useage Not NULL,\n",
    "    Locker_id int NULL,\n",
    "    Trainer_id text NULL,\n",
    "    Administer_id int NOT NULL,\n",
    "    TotalCost int Not NULL,\n",
    "    \n",
    "    primary key (Member_id),\n",
    "    foreign key (Age_group) references Cost(Age_group),\n",
    "    foreign key (Locker_id) references Locker(Locker_id),\n",
    "    foreign key (Trainer_id) references Trainer(Trainer_id),\n",
    "    foreign key (Administer_id) references Administer(Administer_id)\n",
    ");"
   ]
  },
  {
   "cell_type": "code",
   "execution_count": 3,
   "id": "cd359b3d-9cca-4642-be84-52a0bd2d1ce1",
   "metadata": {
    "tags": []
   },
   "outputs": [
    {
     "name": "stdout",
     "output_type": "stream",
     "text": [
      " * sqlite:///DBproject.db\n",
      "(sqlite3.OperationalError) database is locked\n",
      "[SQL: drop table if exists Administer;]\n",
      "(Background on this error at: https://sqlalche.me/e/20/e3q8)\n"
     ]
    }
   ],
   "source": [
    "%%sql\n",
    "\n",
    "drop table if exists Administer;\n",
    "CREATE TABLE Administer ( \n",
    "    Administer_id int NOT NULL,\n",
    "    Administer_name text NOT NULL,\n",
    "    \n",
    "    primary key (Administer_id)\n",
    ");\n",
    "\n",
    "drop table if exists Locker;\n",
    "CREATE TABLE Locker ( \n",
    "    Locker_id int NOT NULL,\n",
    "    Locker_gender text NOT NULL,\n",
    "    Administer_id int NOT NULL,\n",
    "    \n",
    "    primary key (Locker_id)\n",
    "    foreign key (Administer_id) references Administer(Administer_id)\n",
    ");\n",
    "\n",
    "drop table if exists Trainer;\n",
    "CREATE TABLE Trainer ( \n",
    "    Trainer_id text NOT NULL,\n",
    "    Trainer_name text Not NULL,\n",
    "    Administer_id int NOT NULL,\n",
    "\n",
    "    primary key (Trainer_id),\n",
    "    foreign key (Administer_id) references Administer(Administer_id) \n",
    ");\n",
    "\n",
    "drop table if exists Equipment;\n",
    "CREATE TABLE Equipment ( \n",
    "    Equipment_id text NOT NULL,\n",
    "    Equipment_Check text Not NULL,\n",
    "    Administer_id int NOT NULL,\n",
    "    \n",
    "    primary key (Equipment_id),\n",
    "    foreign key (Administer_id) references Administer(Administer_id)\n",
    ");\n",
    "\n",
    "drop table if exists PT;\n",
    "CREATE TABLE PT ( \n",
    "    Age_group text Null,\n",
    "    Ten int NULL,\n",
    "    Twenty int NULL,\n",
    "    Thirty int NULL\n",
    ");\n",
    "\n",
    "drop table if exists Cost;\n",
    "CREATE TABLE Cost( \n",
    "    Age_group text NULL,\n",
    "    OneMonth int NULL,\n",
    "    ThreeMonth int NULL, \n",
    "    SixMonth int NULL,\n",
    "    Year int NULL,\n",
    "    Locker_cost int NULL\n",
    ");"
   ]
  },
  {
   "cell_type": "code",
   "execution_count": 4,
   "id": "5302759b-bc82-4def-a6ce-0302672dc1e6",
   "metadata": {},
   "outputs": [
    {
     "name": "stdout",
     "output_type": "stream",
     "text": [
      " * sqlite:///DBproject.db\n",
      "(sqlite3.IntegrityError) UNIQUE constraint failed: Administer.Administer_id\n",
      "[SQL: insert into Administer (Administer_id, Administer_name) values(1001,'이강욱');]\n",
      "(Background on this error at: https://sqlalche.me/e/20/gkpj)\n"
     ]
    }
   ],
   "source": [
    "%%sql\n",
    "insert into Administer (Administer_id, Administer_name) values(1001,'이강욱');\n",
    "\n",
    "insert into Administer (Administer_id, Administer_name) values(1002,'정현경');"
   ]
  },
  {
   "cell_type": "code",
   "execution_count": 5,
   "id": "49b9de4e-1d54-4e3a-8917-21dae73758ad",
   "metadata": {},
   "outputs": [
    {
     "name": "stdout",
     "output_type": "stream",
     "text": [
      " * sqlite:///DBproject.db\n",
      "Done.\n"
     ]
    },
    {
     "data": {
      "text/html": [
       "<table>\n",
       "    <thead>\n",
       "        <tr>\n",
       "            <th>_관리자ID</th>\n",
       "            <th>_관리자</th>\n",
       "        </tr>\n",
       "    </thead>\n",
       "    <tbody>\n",
       "        <tr>\n",
       "            <td>1001</td>\n",
       "            <td>이강욱</td>\n",
       "        </tr>\n",
       "        <tr>\n",
       "            <td>1002</td>\n",
       "            <td>정현경</td>\n",
       "        </tr>\n",
       "    </tbody>\n",
       "</table>"
      ],
      "text/plain": [
       "[(1001, '이강욱'), (1002, '정현경')]"
      ]
     },
     "execution_count": 5,
     "metadata": {},
     "output_type": "execute_result"
    }
   ],
   "source": [
    "%%sql\n",
    "select Administer_id as _관리자ID, Administer_name as _관리자\n",
    "from Administer"
   ]
  },
  {
   "cell_type": "code",
   "execution_count": 6,
   "id": "450322df-ab8d-4278-8142-22e7befe2b10",
   "metadata": {},
   "outputs": [
    {
     "name": "stdout",
     "output_type": "stream",
     "text": [
      " * sqlite:///DBproject.db\n",
      "(sqlite3.IntegrityError) UNIQUE constraint failed: Equipment.Equipment_id\n",
      "[SQL: insert into Equipment (Equipment_id, Equipment_Check, Administer_id) values ('시티드로우1', '중상', 1001);]\n",
      "(Background on this error at: https://sqlalche.me/e/20/gkpj)\n"
     ]
    }
   ],
   "source": [
    "%%sql\n",
    "insert into Equipment (Equipment_id, Equipment_Check, Administer_id) values ('시티드로우1', '중상', 1001);\n",
    "\n",
    "insert into Equipment (Equipment_id, Equipment_Check, Administer_id) values('레그프레스1', '상', 1001);\n",
    "\n",
    "insert into Equipment (Equipment_id, Equipment_Check, Administer_id) values('레그컬1', '중', 1001);\n",
    "\n",
    "insert into Equipment (Equipment_id, Equipment_Check, Administer_id) values('랫풀다운1', '상', 1001);\n",
    "\n",
    "insert into Equipment (Equipment_id, Equipment_Check, Administer_id) values('벤치프레스1', '최상', 1001);\n",
    "  \n",
    "insert into Equipment (Equipment_id, Equipment_Check, Administer_id) values('레그익스텐션1', '상', 1001);\n",
    "\n",
    "insert into Equipment (Equipment_id, Equipment_Check, Administer_id) values('인클라인벤치프레스1', '최상', 1001);\n",
    "\n",
    "insert into Equipment (Equipment_id, Equipment_Check, Administer_id) values('브이스쿼트1', '상', 1001);\n",
    "\n",
    "insert into Equipment (Equipment_id, Equipment_Check, Administer_id) values('런닝머신1', '상', 1002);\n",
    "\n",
    "insert into Equipment (Equipment_id, Equipment_Check, Administer_id) values('런닝머신2', '상', 1002);\n",
    "\n",
    "insert into Equipment (Equipment_id, Equipment_Check, Administer_id) values('런닝머신3', '중', 1002);\n",
    "\n",
    "insert into Equipment (Equipment_id, Equipment_Check, Administer_id) values('사이클1', '최상', 1002);\n",
    "\n",
    "insert into Equipment (Equipment_id, Equipment_Check, Administer_id) values('사이클2', '최상', 1002);\n",
    " \n",
    "insert into Equipment (Equipment_id, Equipment_Check, Administer_id) values('사이클3', '최상', 1002);\n",
    "\n",
    "insert into Equipment (Equipment_id, Equipment_Check, Administer_id) values('티바로우1', '중상', 1001);\n",
    "\n",
    "insert into Equipment (Equipment_id, Equipment_Check, Administer_id) values('스미스머신1', '최상', 1001);\n",
    "\n",
    "insert into Equipment (Equipment_id, Equipment_Check, Administer_id) values('바벨5kg', '중', 1002);\n",
    "\n",
    "insert into Equipment (Equipment_id, Equipment_Check, Administer_id) values('바벨10kg', '중', 1002);\n",
    "\n",
    "insert into Equipment (Equipment_id, Equipment_Check, Administer_id) values('바벨15kg', '중', 1002);\n",
    "\n",
    "insert into Equipment (Equipment_id, Equipment_Check, Administer_id) values('바벨20kg', '중', 1002);"
   ]
  },
  {
   "cell_type": "code",
   "execution_count": 7,
   "id": "7b7e5808-eb49-49be-8f20-67087cca637a",
   "metadata": {},
   "outputs": [
    {
     "name": "stdout",
     "output_type": "stream",
     "text": [
      " * sqlite:///DBproject.db\n",
      "Done.\n"
     ]
    },
    {
     "data": {
      "text/html": [
       "<table>\n",
       "    <thead>\n",
       "        <tr>\n",
       "            <th>_기구ID</th>\n",
       "            <th>_상태</th>\n",
       "            <th>_관리자ID</th>\n",
       "        </tr>\n",
       "    </thead>\n",
       "    <tbody>\n",
       "        <tr>\n",
       "            <td>시티드로우1</td>\n",
       "            <td>중상</td>\n",
       "            <td>1001</td>\n",
       "        </tr>\n",
       "        <tr>\n",
       "            <td>레그프레스1</td>\n",
       "            <td>상</td>\n",
       "            <td>1001</td>\n",
       "        </tr>\n",
       "        <tr>\n",
       "            <td>레그컬1</td>\n",
       "            <td>중</td>\n",
       "            <td>1001</td>\n",
       "        </tr>\n",
       "        <tr>\n",
       "            <td>랫풀다운1</td>\n",
       "            <td>상</td>\n",
       "            <td>1001</td>\n",
       "        </tr>\n",
       "        <tr>\n",
       "            <td>벤치프레스1</td>\n",
       "            <td>최상</td>\n",
       "            <td>1001</td>\n",
       "        </tr>\n",
       "        <tr>\n",
       "            <td>레그익스텐션1</td>\n",
       "            <td>상</td>\n",
       "            <td>1001</td>\n",
       "        </tr>\n",
       "        <tr>\n",
       "            <td>인클라인벤치프레스1</td>\n",
       "            <td>최상</td>\n",
       "            <td>1001</td>\n",
       "        </tr>\n",
       "        <tr>\n",
       "            <td>브이스쿼트1</td>\n",
       "            <td>상</td>\n",
       "            <td>1001</td>\n",
       "        </tr>\n",
       "        <tr>\n",
       "            <td>런닝머신1</td>\n",
       "            <td>상</td>\n",
       "            <td>1002</td>\n",
       "        </tr>\n",
       "        <tr>\n",
       "            <td>런닝머신2</td>\n",
       "            <td>상</td>\n",
       "            <td>1002</td>\n",
       "        </tr>\n",
       "        <tr>\n",
       "            <td>런닝머신3</td>\n",
       "            <td>중</td>\n",
       "            <td>1002</td>\n",
       "        </tr>\n",
       "        <tr>\n",
       "            <td>사이클1</td>\n",
       "            <td>최상</td>\n",
       "            <td>1002</td>\n",
       "        </tr>\n",
       "        <tr>\n",
       "            <td>사이클2</td>\n",
       "            <td>최상</td>\n",
       "            <td>1002</td>\n",
       "        </tr>\n",
       "        <tr>\n",
       "            <td>사이클3</td>\n",
       "            <td>최상</td>\n",
       "            <td>1002</td>\n",
       "        </tr>\n",
       "        <tr>\n",
       "            <td>티바로우1</td>\n",
       "            <td>중상</td>\n",
       "            <td>1001</td>\n",
       "        </tr>\n",
       "        <tr>\n",
       "            <td>스미스머신1</td>\n",
       "            <td>최상</td>\n",
       "            <td>1001</td>\n",
       "        </tr>\n",
       "        <tr>\n",
       "            <td>바벨5kg</td>\n",
       "            <td>중</td>\n",
       "            <td>1002</td>\n",
       "        </tr>\n",
       "        <tr>\n",
       "            <td>바벨10kg</td>\n",
       "            <td>중</td>\n",
       "            <td>1002</td>\n",
       "        </tr>\n",
       "        <tr>\n",
       "            <td>바벨15kg</td>\n",
       "            <td>중</td>\n",
       "            <td>1002</td>\n",
       "        </tr>\n",
       "        <tr>\n",
       "            <td>바벨20kg</td>\n",
       "            <td>중</td>\n",
       "            <td>1002</td>\n",
       "        </tr>\n",
       "    </tbody>\n",
       "</table>"
      ],
      "text/plain": [
       "[('시티드로우1', '중상', 1001),\n",
       " ('레그프레스1', '상', 1001),\n",
       " ('레그컬1', '중', 1001),\n",
       " ('랫풀다운1', '상', 1001),\n",
       " ('벤치프레스1', '최상', 1001),\n",
       " ('레그익스텐션1', '상', 1001),\n",
       " ('인클라인벤치프레스1', '최상', 1001),\n",
       " ('브이스쿼트1', '상', 1001),\n",
       " ('런닝머신1', '상', 1002),\n",
       " ('런닝머신2', '상', 1002),\n",
       " ('런닝머신3', '중', 1002),\n",
       " ('사이클1', '최상', 1002),\n",
       " ('사이클2', '최상', 1002),\n",
       " ('사이클3', '최상', 1002),\n",
       " ('티바로우1', '중상', 1001),\n",
       " ('스미스머신1', '최상', 1001),\n",
       " ('바벨5kg', '중', 1002),\n",
       " ('바벨10kg', '중', 1002),\n",
       " ('바벨15kg', '중', 1002),\n",
       " ('바벨20kg', '중', 1002)]"
      ]
     },
     "execution_count": 7,
     "metadata": {},
     "output_type": "execute_result"
    }
   ],
   "source": [
    "%%sql\n",
    "select Equipment_id as _기구ID , Equipment_Check as _상태, Administer_id as _관리자ID\n",
    "from Equipment"
   ]
  },
  {
   "cell_type": "code",
   "execution_count": 8,
   "id": "c574f9ac-18c6-4336-a5bb-549afe0fc548",
   "metadata": {
    "tags": []
   },
   "outputs": [
    {
     "name": "stdout",
     "output_type": "stream",
     "text": [
      " * sqlite:///DBproject.db\n",
      "(sqlite3.IntegrityError) UNIQUE constraint failed: Trainer.Trainer_id\n",
      "[SQL: insert into Trainer (Trainer_id, Trainer_name, Administer_id) values('R01', '로니콜먼', 1001);]\n",
      "(Background on this error at: https://sqlalche.me/e/20/gkpj)\n"
     ]
    }
   ],
   "source": [
    "%%sql \n",
    "insert into Trainer (Trainer_id, Trainer_name, Administer_id) values('R01', '로니콜먼', 1001);\n",
    "\n",
    "insert into Trainer (Trainer_id, Trainer_name, Administer_id) values('A02', '아놀드 슈왈츠제너거', 1001);\n",
    " \n",
    "insert into Trainer (Trainer_id, Trainer_name, Administer_id) values('C03', '크리스 범스테드', 1001);\n",
    "\n",
    "insert into Trainer (Trainer_id, Trainer_name, Administer_id) values('F04', '필 히스', 1002);\n",
    "\n",
    "insert into Trainer (Trainer_id, Trainer_name, Administer_id) values('H05', '하디추판', 1002);\n",
    "\n",
    "insert into Trainer (Trainer_id, Trainer_name, Administer_id) values('J06', '주민수', 1002);"
   ]
  },
  {
   "cell_type": "code",
   "execution_count": 9,
   "id": "530458a5-6472-408d-965d-6bf31f74c3ca",
   "metadata": {
    "tags": []
   },
   "outputs": [
    {
     "name": "stdout",
     "output_type": "stream",
     "text": [
      " * sqlite:///DBproject.db\n",
      "Done.\n"
     ]
    },
    {
     "data": {
      "text/html": [
       "<table>\n",
       "    <thead>\n",
       "        <tr>\n",
       "            <th>_트레이너ID</th>\n",
       "            <th>_이름</th>\n",
       "            <th>_관리자ID</th>\n",
       "        </tr>\n",
       "    </thead>\n",
       "    <tbody>\n",
       "        <tr>\n",
       "            <td>R01</td>\n",
       "            <td>로니콜먼</td>\n",
       "            <td>1001</td>\n",
       "        </tr>\n",
       "        <tr>\n",
       "            <td>A02</td>\n",
       "            <td>아놀드 슈왈츠제너거</td>\n",
       "            <td>1001</td>\n",
       "        </tr>\n",
       "        <tr>\n",
       "            <td>C03</td>\n",
       "            <td>크리스 범스테드</td>\n",
       "            <td>1001</td>\n",
       "        </tr>\n",
       "        <tr>\n",
       "            <td>F04</td>\n",
       "            <td>필 히스</td>\n",
       "            <td>1002</td>\n",
       "        </tr>\n",
       "        <tr>\n",
       "            <td>H05</td>\n",
       "            <td>하디추판</td>\n",
       "            <td>1002</td>\n",
       "        </tr>\n",
       "        <tr>\n",
       "            <td>J06</td>\n",
       "            <td>주민수</td>\n",
       "            <td>1002</td>\n",
       "        </tr>\n",
       "    </tbody>\n",
       "</table>"
      ],
      "text/plain": [
       "[('R01', '로니콜먼', 1001),\n",
       " ('A02', '아놀드 슈왈츠제너거', 1001),\n",
       " ('C03', '크리스 범스테드', 1001),\n",
       " ('F04', '필 히스', 1002),\n",
       " ('H05', '하디추판', 1002),\n",
       " ('J06', '주민수', 1002)]"
      ]
     },
     "execution_count": 9,
     "metadata": {},
     "output_type": "execute_result"
    }
   ],
   "source": [
    "%%sql\n",
    "select Trainer_id as _트레이너ID, Trainer_name as _이름, Administer_id as _관리자ID\n",
    "from Trainer"
   ]
  },
  {
   "cell_type": "code",
   "execution_count": 10,
   "id": "558e050d-3d17-4986-89e1-1b872b94ab0e",
   "metadata": {},
   "outputs": [
    {
     "name": "stdout",
     "output_type": "stream",
     "text": [
      " * sqlite:///DBproject.db\n",
      "(sqlite3.IntegrityError) UNIQUE constraint failed: Locker.Locker_id\n",
      "[SQL: insert into Locker (Locker_id, Locker_gender, Administer_id) values(1, '남', 1001);]\n",
      "(Background on this error at: https://sqlalche.me/e/20/gkpj)\n"
     ]
    }
   ],
   "source": [
    "%%sql\n",
    "insert into Locker (Locker_id, Locker_gender, Administer_id) values(1, '남', 1001);\n",
    "\n",
    "insert into Locker (Locker_id, Locker_gender, Administer_id) values(2, '남', 1001);\n",
    "\n",
    "insert into Locker (Locker_id, Locker_gender, Administer_id) values(3, '남', 1001);\n",
    "\n",
    "insert into Locker (Locker_id, Locker_gender, Administer_id) values(4, '남', 1001);\n",
    "\n",
    "insert into Locker (Locker_id, Locker_gender, Administer_id) values(5, '남', 1001);\n",
    "\n",
    "insert into Locker (Locker_id, Locker_gender, Administer_id) values(6, '남', 1001);\n",
    "\n",
    "insert into Locker (Locker_id, Locker_gender, Administer_id) values(7, '남', 1001);\n",
    "\n",
    "insert into Locker (Locker_id, Locker_gender, Administer_id) values(8, '남', 1001);\n",
    "\n",
    "insert into Locker (Locker_id, Locker_gender, Administer_id) values(9, '남', 1001);\n",
    "\n",
    "insert into Locker (Locker_id, Locker_gender, Administer_id) values(10, '남', 1001);\n",
    "\n",
    "insert into Locker (Locker_id, Locker_gender, Administer_id) values(11, '여', 1002);\n",
    "\n",
    "insert into Locker (Locker_id, Locker_gender, Administer_id) values(12, '여', 1002);\n",
    "\n",
    "insert into Locker (Locker_id, Locker_gender, Administer_id) values(13, '여', 1002);\n",
    "\n",
    "insert into Locker (Locker_id, Locker_gender, Administer_id) values(14, '여', 1002);\n",
    "\n",
    "insert into Locker (Locker_id, Locker_gender, Administer_id) values(15, '여', 1002);\n",
    "\n",
    "insert into Locker (Locker_id, Locker_gender, Administer_id) values(16, '여', 1002);\n",
    "\n",
    "insert into Locker (Locker_id, Locker_gender, Administer_id) values(17, '여', 1002);\n",
    "\n",
    "insert into Locker (Locker_id, Locker_gender, Administer_id) values(18, '여', 1002);\n",
    "\n",
    "insert into Locker (Locker_id, Locker_gender, Administer_id) values(19, '여', 1002);\n",
    "\n",
    "insert into Locker (Locker_id, Locker_gender, Administer_id) values(20, '여', 1002);"
   ]
  },
  {
   "cell_type": "code",
   "execution_count": 11,
   "id": "ca6e84b7-3d43-477b-b250-3361feaf0600",
   "metadata": {
    "tags": []
   },
   "outputs": [
    {
     "name": "stdout",
     "output_type": "stream",
     "text": [
      " * sqlite:///DBproject.db\n",
      "Done.\n"
     ]
    },
    {
     "data": {
      "text/html": [
       "<table>\n",
       "    <thead>\n",
       "        <tr>\n",
       "            <th>_라커ID</th>\n",
       "            <th>_성별</th>\n",
       "            <th>_관리자ID</th>\n",
       "        </tr>\n",
       "    </thead>\n",
       "    <tbody>\n",
       "        <tr>\n",
       "            <td>1</td>\n",
       "            <td>남</td>\n",
       "            <td>1001</td>\n",
       "        </tr>\n",
       "        <tr>\n",
       "            <td>2</td>\n",
       "            <td>남</td>\n",
       "            <td>1001</td>\n",
       "        </tr>\n",
       "        <tr>\n",
       "            <td>3</td>\n",
       "            <td>남</td>\n",
       "            <td>1001</td>\n",
       "        </tr>\n",
       "        <tr>\n",
       "            <td>4</td>\n",
       "            <td>남</td>\n",
       "            <td>1001</td>\n",
       "        </tr>\n",
       "        <tr>\n",
       "            <td>5</td>\n",
       "            <td>남</td>\n",
       "            <td>1001</td>\n",
       "        </tr>\n",
       "        <tr>\n",
       "            <td>6</td>\n",
       "            <td>남</td>\n",
       "            <td>1001</td>\n",
       "        </tr>\n",
       "        <tr>\n",
       "            <td>7</td>\n",
       "            <td>남</td>\n",
       "            <td>1001</td>\n",
       "        </tr>\n",
       "        <tr>\n",
       "            <td>8</td>\n",
       "            <td>남</td>\n",
       "            <td>1001</td>\n",
       "        </tr>\n",
       "        <tr>\n",
       "            <td>9</td>\n",
       "            <td>남</td>\n",
       "            <td>1001</td>\n",
       "        </tr>\n",
       "        <tr>\n",
       "            <td>10</td>\n",
       "            <td>남</td>\n",
       "            <td>1001</td>\n",
       "        </tr>\n",
       "        <tr>\n",
       "            <td>11</td>\n",
       "            <td>여</td>\n",
       "            <td>1002</td>\n",
       "        </tr>\n",
       "        <tr>\n",
       "            <td>12</td>\n",
       "            <td>여</td>\n",
       "            <td>1002</td>\n",
       "        </tr>\n",
       "        <tr>\n",
       "            <td>13</td>\n",
       "            <td>여</td>\n",
       "            <td>1002</td>\n",
       "        </tr>\n",
       "        <tr>\n",
       "            <td>14</td>\n",
       "            <td>여</td>\n",
       "            <td>1002</td>\n",
       "        </tr>\n",
       "        <tr>\n",
       "            <td>15</td>\n",
       "            <td>여</td>\n",
       "            <td>1002</td>\n",
       "        </tr>\n",
       "        <tr>\n",
       "            <td>16</td>\n",
       "            <td>여</td>\n",
       "            <td>1002</td>\n",
       "        </tr>\n",
       "        <tr>\n",
       "            <td>17</td>\n",
       "            <td>여</td>\n",
       "            <td>1002</td>\n",
       "        </tr>\n",
       "        <tr>\n",
       "            <td>18</td>\n",
       "            <td>여</td>\n",
       "            <td>1002</td>\n",
       "        </tr>\n",
       "        <tr>\n",
       "            <td>19</td>\n",
       "            <td>여</td>\n",
       "            <td>1002</td>\n",
       "        </tr>\n",
       "        <tr>\n",
       "            <td>20</td>\n",
       "            <td>여</td>\n",
       "            <td>1002</td>\n",
       "        </tr>\n",
       "    </tbody>\n",
       "</table>"
      ],
      "text/plain": [
       "[(1, '남', 1001),\n",
       " (2, '남', 1001),\n",
       " (3, '남', 1001),\n",
       " (4, '남', 1001),\n",
       " (5, '남', 1001),\n",
       " (6, '남', 1001),\n",
       " (7, '남', 1001),\n",
       " (8, '남', 1001),\n",
       " (9, '남', 1001),\n",
       " (10, '남', 1001),\n",
       " (11, '여', 1002),\n",
       " (12, '여', 1002),\n",
       " (13, '여', 1002),\n",
       " (14, '여', 1002),\n",
       " (15, '여', 1002),\n",
       " (16, '여', 1002),\n",
       " (17, '여', 1002),\n",
       " (18, '여', 1002),\n",
       " (19, '여', 1002),\n",
       " (20, '여', 1002)]"
      ]
     },
     "execution_count": 11,
     "metadata": {},
     "output_type": "execute_result"
    }
   ],
   "source": [
    "%%sql\n",
    "select Locker_id as _라커ID, Locker_gender as _성별, Administer_id as _관리자ID\n",
    "from Locker"
   ]
  },
  {
   "cell_type": "code",
   "execution_count": 12,
   "id": "60cb40dd-d9e3-437f-b2f2-79073efb3289",
   "metadata": {},
   "outputs": [
    {
     "name": "stdout",
     "output_type": "stream",
     "text": [
      " * sqlite:///DBproject.db\n",
      "1 rows affected.\n",
      "1 rows affected.\n",
      "1 rows affected.\n"
     ]
    },
    {
     "data": {
      "text/plain": [
       "[]"
      ]
     },
     "execution_count": 12,
     "metadata": {},
     "output_type": "execute_result"
    }
   ],
   "source": [
    "%%sql\n",
    "insert into PT (Age_group, Ten, Twenty, Thirty) values('청소년(14~19)', 300000, 500000, 600000);\n",
    "\n",
    "insert into PT (Age_group, Ten, Twenty, Thirty) values('성인(20~59)', 450000, 700000, 850000);\n",
    "\n",
    "insert into PT (Age_group, Ten, Twenty, Thirty) values('노년(60~)', 350000, 460000, 530000);"
   ]
  },
  {
   "cell_type": "code",
   "execution_count": 13,
   "id": "5f9d8554-3fb4-4f1d-bcde-972f62afaae2",
   "metadata": {},
   "outputs": [
    {
     "name": "stdout",
     "output_type": "stream",
     "text": [
      " * sqlite:///DBproject.db\n",
      "Done.\n"
     ]
    },
    {
     "data": {
      "text/html": [
       "<table>\n",
       "    <thead>\n",
       "        <tr>\n",
       "            <th>_연령층</th>\n",
       "            <th>_10회</th>\n",
       "            <th>_20회</th>\n",
       "            <th>_30회</th>\n",
       "        </tr>\n",
       "    </thead>\n",
       "    <tbody>\n",
       "        <tr>\n",
       "            <td>청소년(14~19)</td>\n",
       "            <td>300000</td>\n",
       "            <td>500000</td>\n",
       "            <td>600000</td>\n",
       "        </tr>\n",
       "        <tr>\n",
       "            <td>성인(20~59)</td>\n",
       "            <td>450000</td>\n",
       "            <td>700000</td>\n",
       "            <td>850000</td>\n",
       "        </tr>\n",
       "        <tr>\n",
       "            <td>노년(60~)</td>\n",
       "            <td>350000</td>\n",
       "            <td>460000</td>\n",
       "            <td>530000</td>\n",
       "        </tr>\n",
       "        <tr>\n",
       "            <td>청소년(14~19)</td>\n",
       "            <td>300000</td>\n",
       "            <td>500000</td>\n",
       "            <td>600000</td>\n",
       "        </tr>\n",
       "        <tr>\n",
       "            <td>성인(20~59)</td>\n",
       "            <td>450000</td>\n",
       "            <td>700000</td>\n",
       "            <td>850000</td>\n",
       "        </tr>\n",
       "        <tr>\n",
       "            <td>노년(60~)</td>\n",
       "            <td>350000</td>\n",
       "            <td>460000</td>\n",
       "            <td>530000</td>\n",
       "        </tr>\n",
       "    </tbody>\n",
       "</table>"
      ],
      "text/plain": [
       "[('청소년(14~19)', 300000, 500000, 600000),\n",
       " ('성인(20~59)', 450000, 700000, 850000),\n",
       " ('노년(60~)', 350000, 460000, 530000),\n",
       " ('청소년(14~19)', 300000, 500000, 600000),\n",
       " ('성인(20~59)', 450000, 700000, 850000),\n",
       " ('노년(60~)', 350000, 460000, 530000)]"
      ]
     },
     "execution_count": 13,
     "metadata": {},
     "output_type": "execute_result"
    }
   ],
   "source": [
    "%%sql\n",
    "select Age_group as _연령층, Ten as _10회, Twenty as _20회, Thirty as _30회 \n",
    "from PT"
   ]
  },
  {
   "cell_type": "code",
   "execution_count": 14,
   "id": "5b4d9cbc-ef7a-4105-9708-554af6945af4",
   "metadata": {
    "tags": []
   },
   "outputs": [
    {
     "name": "stdout",
     "output_type": "stream",
     "text": [
      " * sqlite:///DBproject.db\n",
      "1 rows affected.\n",
      "1 rows affected.\n",
      "1 rows affected.\n"
     ]
    },
    {
     "data": {
      "text/plain": [
       "[]"
      ]
     },
     "execution_count": 14,
     "metadata": {},
     "output_type": "execute_result"
    }
   ],
   "source": [
    "%%sql\n",
    "insert into Cost (Age_group, OneMonth, ThreeMonth, SixMonth, Year, Locker_cost) values('청소년(14~19)', 50000, 120000, 190000, 330000, 10000);\n",
    "\n",
    "insert into Cost (Age_group, OneMonth, ThreeMonth, SixMonth, Year, Locker_cost) values('성인(20~59)', 80000, 150000, 250000, 450000, 10000);\n",
    "\n",
    "insert into Cost (Age_group, OneMonth, ThreeMonth, SixMonth, Year, Locker_cost) values('노년(60~)', 70000, 130000, 210000, 370000, 10000);"
   ]
  },
  {
   "cell_type": "code",
   "execution_count": 15,
   "id": "c8461557-448c-44e8-ad66-bf4ea0471f84",
   "metadata": {
    "tags": []
   },
   "outputs": [
    {
     "name": "stdout",
     "output_type": "stream",
     "text": [
      " * sqlite:///DBproject.db\n",
      "Done.\n"
     ]
    },
    {
     "data": {
      "text/html": [
       "<table>\n",
       "    <thead>\n",
       "        <tr>\n",
       "            <th>_연령층</th>\n",
       "            <th>_1달</th>\n",
       "            <th>_3달</th>\n",
       "            <th>_6달</th>\n",
       "            <th>_1년</th>\n",
       "            <th>_라커가격</th>\n",
       "        </tr>\n",
       "    </thead>\n",
       "    <tbody>\n",
       "        <tr>\n",
       "            <td>청소년(14~19)</td>\n",
       "            <td>50000</td>\n",
       "            <td>120000</td>\n",
       "            <td>190000</td>\n",
       "            <td>330000</td>\n",
       "            <td>10000</td>\n",
       "        </tr>\n",
       "        <tr>\n",
       "            <td>성인(20~59)</td>\n",
       "            <td>80000</td>\n",
       "            <td>150000</td>\n",
       "            <td>250000</td>\n",
       "            <td>450000</td>\n",
       "            <td>10000</td>\n",
       "        </tr>\n",
       "        <tr>\n",
       "            <td>노년(60~)</td>\n",
       "            <td>70000</td>\n",
       "            <td>130000</td>\n",
       "            <td>210000</td>\n",
       "            <td>370000</td>\n",
       "            <td>10000</td>\n",
       "        </tr>\n",
       "        <tr>\n",
       "            <td>청소년(14~19)</td>\n",
       "            <td>50000</td>\n",
       "            <td>120000</td>\n",
       "            <td>190000</td>\n",
       "            <td>330000</td>\n",
       "            <td>10000</td>\n",
       "        </tr>\n",
       "        <tr>\n",
       "            <td>성인(20~59)</td>\n",
       "            <td>80000</td>\n",
       "            <td>150000</td>\n",
       "            <td>250000</td>\n",
       "            <td>450000</td>\n",
       "            <td>10000</td>\n",
       "        </tr>\n",
       "        <tr>\n",
       "            <td>노년(60~)</td>\n",
       "            <td>70000</td>\n",
       "            <td>130000</td>\n",
       "            <td>210000</td>\n",
       "            <td>370000</td>\n",
       "            <td>10000</td>\n",
       "        </tr>\n",
       "    </tbody>\n",
       "</table>"
      ],
      "text/plain": [
       "[('청소년(14~19)', 50000, 120000, 190000, 330000, 10000),\n",
       " ('성인(20~59)', 80000, 150000, 250000, 450000, 10000),\n",
       " ('노년(60~)', 70000, 130000, 210000, 370000, 10000),\n",
       " ('청소년(14~19)', 50000, 120000, 190000, 330000, 10000),\n",
       " ('성인(20~59)', 80000, 150000, 250000, 450000, 10000),\n",
       " ('노년(60~)', 70000, 130000, 210000, 370000, 10000)]"
      ]
     },
     "execution_count": 15,
     "metadata": {},
     "output_type": "execute_result"
    }
   ],
   "source": [
    "%%sql\n",
    "select Age_group as _연령층, OneMonth as _1달, ThreeMonth as _3달, SixMonth as _6달, Year as _1년, Locker_cost as _라커가격\n",
    "from Cost"
   ]
  },
  {
   "cell_type": "code",
   "execution_count": 22,
   "id": "44b082c3-cc00-42eb-b263-6375433fd652",
   "metadata": {
    "tags": []
   },
   "outputs": [
    {
     "name": "stdout",
     "output_type": "stream",
     "text": [
      " * sqlite:///DBproject.db\n",
      "Done.\n"
     ]
    },
    {
     "data": {
      "text/html": [
       "<table>\n",
       "    <thead>\n",
       "        <tr>\n",
       "            <th>Member_id</th>\n",
       "            <th>Name</th>\n",
       "            <th>Birthday</th>\n",
       "            <th>Age_group</th>\n",
       "            <th>Address</th>\n",
       "            <th>Phone</th>\n",
       "            <th>Gender</th>\n",
       "            <th>Locker_useage</th>\n",
       "            <th>Locker_id</th>\n",
       "            <th>Trainer_id</th>\n",
       "            <th>Administer_id</th>\n",
       "            <th>TotalCost</th>\n",
       "        </tr>\n",
       "    </thead>\n",
       "    <tbody>\n",
       "        <tr>\n",
       "            <td>Q012</td>\n",
       "            <td>이강욱</td>\n",
       "            <td>000428</td>\n",
       "            <td>성인</td>\n",
       "            <td>김해</td>\n",
       "            <td>01033944618</td>\n",
       "            <td>남</td>\n",
       "            <td>네</td>\n",
       "            <td>1</td>\n",
       "            <td>R01</td>\n",
       "            <td>1001</td>\n",
       "            <td>610000</td>\n",
       "        </tr>\n",
       "        <tr>\n",
       "            <td>A123</td>\n",
       "            <td>정현경</td>\n",
       "            <td>020515</td>\n",
       "            <td>성인</td>\n",
       "            <td>진주</td>\n",
       "            <td>01012345678</td>\n",
       "            <td>여</td>\n",
       "            <td>네</td>\n",
       "            <td>11</td>\n",
       "            <td>J06</td>\n",
       "            <td>1001</td>\n",
       "            <td>540000</td>\n",
       "        </tr>\n",
       "    </tbody>\n",
       "</table>"
      ],
      "text/plain": [
       "[('Q012', '이강욱', '000428', '성인', '김해', '01033944618', '남', '네', 1, 'R01', 1001, 610000),\n",
       " ('A123', '정현경', '020515', '성인', '진주', '01012345678', '여', '네', 11, 'J06', 1001, 540000)]"
      ]
     },
     "execution_count": 22,
     "metadata": {},
     "output_type": "execute_result"
    }
   ],
   "source": [
    "%%sql\n",
    "select *\n",
    "from Member"
   ]
  },
  {
   "cell_type": "code",
   "execution_count": 20,
   "id": "b992b734-371b-4b07-80a3-25473cf8e2fe",
   "metadata": {
    "tags": []
   },
   "outputs": [
    {
     "name": "stdout",
     "output_type": "stream",
     "text": [
      " * sqlite:///DBproject.db\n",
      "2 rows affected.\n"
     ]
    },
    {
     "data": {
      "text/plain": [
       "[]"
      ]
     },
     "execution_count": 20,
     "metadata": {},
     "output_type": "execute_result"
    }
   ],
   "source": [
    "%%sql\n",
    "delete \n",
    "from Member\n",
    "where Name ='정현경'"
   ]
  },
  {
   "cell_type": "code",
   "execution_count": null,
   "id": "eea7d368-3341-4beb-b44b-3afb707103b2",
   "metadata": {},
   "outputs": [],
   "source": []
  }
 ],
 "metadata": {
  "kernelspec": {
   "display_name": "Python 3 (ipykernel)",
   "language": "python",
   "name": "python3"
  },
  "language_info": {
   "codemirror_mode": {
    "name": "ipython",
    "version": 3
   },
   "file_extension": ".py",
   "mimetype": "text/x-python",
   "name": "python",
   "nbconvert_exporter": "python",
   "pygments_lexer": "ipython3",
   "version": "3.11.2"
  }
 },
 "nbformat": 4,
 "nbformat_minor": 5
}
