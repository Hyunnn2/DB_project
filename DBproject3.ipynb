{
 "cells": [
  {
   "cell_type": "code",
   "execution_count": null,
   "id": "33b40111-d751-429b-a730-b3a31f0f64e8",
   "metadata": {
    "tags": []
   },
   "outputs": [
    {
     "name": "stdout",
     "output_type": "stream",
     "text": [
      "Excel 파일이 생성되었습니다.\n",
      "\n",
      "\n",
      "\n",
      "**************** 헬스장 관리 데이터베이스 *****************\n",
      "*    1. 회원등록\n",
      "*    2. 트레이너 모드\n",
      "*    3. 관리자 모드\n",
      "*    4. 종료\n",
      "*********************************************************\n"
     ]
    },
    {
     "name": "stdin",
     "output_type": "stream",
     "text": [
      "번호를 선택하세요 :  1\n"
     ]
    },
    {
     "name": "stdout",
     "output_type": "stream",
     "text": [
      "\n",
      "------------ 회원등록을 시작하겠습니다 ------------\n"
     ]
    },
    {
     "name": "stdin",
     "output_type": "stream",
     "text": [
      "회원ID :  A234\n",
      "이름 :  정현경\n",
      "생년월일 :  020515\n",
      "연령층 :  성인\n",
      "거주지 :  진주\n",
      "휴대폰 번호 :  01013456789\n",
      "성별(남/여) :  여\n"
     ]
    },
    {
     "name": "stdout",
     "output_type": "stream",
     "text": [
      "\n",
      "< 등록금 >\n",
      "      Age_group        OneMonth      ThreeMonth        SixMonth            Year\n",
      "     청소년(14~19)           50000          120000          190000          330000\n",
      "      성인(20~59)           80000          150000          250000          450000\n",
      "        노년(60~)           70000          130000          210000          370000\n"
     ]
    },
    {
     "name": "stdin",
     "output_type": "stream",
     "text": [
      "원하시는 기간을 정하여 표를 보고 가격을 입력해주세요 :  80000\n",
      "\n",
      "라커를 이용하시겠습니까? \n",
      "가격 - 10000원 (yes/no) :  네\n"
     ]
    },
    {
     "name": "stdout",
     "output_type": "stream",
     "text": [
      "\n",
      "---------------- 트레이너 배정 -----------------\n",
      "    트레이너ID         이름\n",
      "       R01       로니콜먼\n",
      "       A02 아놀드 슈왈츠제너거\n",
      "       C03   크리스 범스테드\n",
      "       F04       필 히스\n",
      "       H05       하디추판\n",
      "       J06        주민수\n"
     ]
    },
    {
     "name": "stdin",
     "output_type": "stream",
     "text": [
      "원하시는 트레이너ID를 입력해주세요 :  J06\n",
      "\n",
      "PT를 하시겠습니까? (yes/no) :  아니오\n",
      "관리자ID (회원에게는 보여주면 안됩니다.) :  1001\n"
     ]
    },
    {
     "name": "stdout",
     "output_type": "stream",
     "text": [
      "\n",
      "총 비용은 90000원 입니다.\n",
      "회원등록이 완료되었습니다. 감사합니다:)\n",
      "\n",
      "------------------------------------------------\n",
      "\n",
      "\n",
      "\n",
      "**************** 헬스장 관리 데이터베이스 *****************\n",
      "*    1. 회원등록\n",
      "*    2. 트레이너 모드\n",
      "*    3. 관리자 모드\n",
      "*    4. 종료\n",
      "*********************************************************\n"
     ]
    },
    {
     "name": "stdin",
     "output_type": "stream",
     "text": [
      "번호를 선택하세요 :  2\n"
     ]
    },
    {
     "name": "stdout",
     "output_type": "stream",
     "text": [
      "\n",
      "-------------------- 트레이너 모드 ----------------------\n",
      "       트레이너ID            이름\n",
      "          R01          로니콜먼\n",
      "          A02    아놀드 슈왈츠제너거\n",
      "          C03      크리스 범스테드\n",
      "          F04          필 히스\n",
      "          H05          하디추판\n",
      "          J06           주민수\n"
     ]
    },
    {
     "name": "stdin",
     "output_type": "stream",
     "text": [
      "트레이너ID를 입력 :  J06\n"
     ]
    },
    {
     "name": "stdout",
     "output_type": "stream",
     "text": [
      "\n",
      "--------------------- 지정회원 목록 --------------------- \n",
      "Name Locker_id Gender       Phone\n",
      " 정현경      None      여 01012345678\n",
      " 정현경      None      여 01013456789\n",
      "--------------------------------------------------------\n",
      "\n",
      "\n",
      "\n",
      "**************** 헬스장 관리 데이터베이스 *****************\n",
      "*    1. 회원등록\n",
      "*    2. 트레이너 모드\n",
      "*    3. 관리자 모드\n",
      "*    4. 종료\n",
      "*********************************************************\n"
     ]
    },
    {
     "name": "stdin",
     "output_type": "stream",
     "text": [
      "번호를 선택하세요 :  1\n"
     ]
    },
    {
     "name": "stdout",
     "output_type": "stream",
     "text": [
      "\n",
      "------------ 회원등록을 시작하겠습니다 ------------\n"
     ]
    },
    {
     "name": "stdin",
     "output_type": "stream",
     "text": [
      "회원ID :  A123\n",
      "이름 :  정현경\n",
      "생년월일 :  020515\n",
      "연령층 :  성인\n",
      "거주지 :  진주\n",
      "휴대폰 번호 :  01012345678\n",
      "성별(남/여) :  여\n"
     ]
    },
    {
     "name": "stdout",
     "output_type": "stream",
     "text": [
      "\n",
      "< 등록금 >\n",
      "      Age_group        OneMonth      ThreeMonth        SixMonth            Year\n",
      "     청소년(14~19)           50000          120000          190000          330000\n",
      "      성인(20~59)           80000          150000          250000          450000\n",
      "        노년(60~)           70000          130000          210000          370000\n"
     ]
    },
    {
     "name": "stdin",
     "output_type": "stream",
     "text": [
      "원하시는 기간을 정하여 표를 보고 가격을 입력해주세요 :  80000\n",
      "\n",
      "라커를 이용하시겠습니까? \n",
      "가격 - 10000원 (yes/no) :  네\n"
     ]
    },
    {
     "name": "stdout",
     "output_type": "stream",
     "text": [
      "\n",
      "---------------- 트레이너 배정 -----------------\n",
      "    트레이너ID         이름\n",
      "       R01       로니콜먼\n",
      "       A02 아놀드 슈왈츠제너거\n",
      "       C03   크리스 범스테드\n",
      "       F04       필 히스\n",
      "       H05       하디추판\n",
      "       J06        주민수\n"
     ]
    },
    {
     "name": "stdin",
     "output_type": "stream",
     "text": [
      "원하시는 트레이너ID를 입력해주세요 :  J06\n",
      "\n",
      "PT를 하시겠습니까? (yes/no) :  네\n"
     ]
    },
    {
     "name": "stdout",
     "output_type": "stream",
     "text": [
      "      Age_group             Ten          Twenty          Thirty\n",
      "     청소년(14~19)          300000          500000          600000\n",
      "      성인(20~59)          450000          700000          850000\n",
      "        노년(60~)          350000          460000          530000\n"
     ]
    },
    {
     "name": "stdin",
     "output_type": "stream",
     "text": [
      "원하시는 기간을 정하여 표를 보고 가격을 입력해주세요 :  450000\n",
      "관리자ID (회원에게는 보여주면 안됩니다.) :  1001\n"
     ]
    },
    {
     "name": "stdout",
     "output_type": "stream",
     "text": [
      "\n",
      "총 비용은 540000원 입니다.\n",
      "회원등록이 완료되었습니다. 감사합니다:)\n",
      "\n",
      "------------------------------------------------\n",
      "\n",
      "\n",
      "\n",
      "**************** 헬스장 관리 데이터베이스 *****************\n",
      "*    1. 회원등록\n",
      "*    2. 트레이너 모드\n",
      "*    3. 관리자 모드\n",
      "*    4. 종료\n",
      "*********************************************************\n"
     ]
    },
    {
     "name": "stdin",
     "output_type": "stream",
     "text": [
      "번호를 선택하세요 :  2\n"
     ]
    },
    {
     "name": "stdout",
     "output_type": "stream",
     "text": [
      "\n",
      "-------------------- 트레이너 모드 ----------------------\n",
      "       트레이너ID            이름\n",
      "          R01          로니콜먼\n",
      "          A02    아놀드 슈왈츠제너거\n",
      "          C03      크리스 범스테드\n",
      "          F04          필 히스\n",
      "          H05          하디추판\n",
      "          J06           주민수\n"
     ]
    },
    {
     "name": "stdin",
     "output_type": "stream",
     "text": [
      "트레이너ID를 입력 :  J06\n"
     ]
    },
    {
     "name": "stdout",
     "output_type": "stream",
     "text": [
      "\n",
      "--------------------- 지정회원 목록 --------------------- \n",
      "Name Locker_id Gender       Phone\n",
      " 정현경      None      여 01012345678\n",
      "--------------------------------------------------------\n",
      "\n",
      "\n",
      "\n",
      "**************** 헬스장 관리 데이터베이스 *****************\n",
      "*    1. 회원등록\n",
      "*    2. 트레이너 모드\n",
      "*    3. 관리자 모드\n",
      "*    4. 종료\n",
      "*********************************************************\n"
     ]
    },
    {
     "name": "stdin",
     "output_type": "stream",
     "text": [
      "번호를 선택하세요 :  3\n"
     ]
    },
    {
     "name": "stdout",
     "output_type": "stream",
     "text": [
      "\n",
      "--------------------- 관리자모드 -----------------------\n",
      " ** 관리자ID는 본인만 알고 있습니다. **\n",
      "\n",
      "관리자목록\n",
      "  이강욱\n",
      "  정현경\n",
      "--------------------------------------------------------\n"
     ]
    },
    {
     "name": "stdin",
     "output_type": "stream",
     "text": [
      "\n",
      "관리자ID를 입력해주세요 :  1002\n"
     ]
    },
    {
     "name": "stdout",
     "output_type": "stream",
     "text": [
      "정현경님, 안녕하세요\n",
      "\n",
      "\n",
      "--------------------------------------------------------\n",
      "1. 기구관리 \n",
      "2. 라커관리\n",
      "3. 트레이너관리\n",
      "4. 회원목록\n",
      "5. 종료\n"
     ]
    },
    {
     "name": "stdin",
     "output_type": "stream",
     "text": [
      "번호 선택 :  1\n"
     ]
    },
    {
     "name": "stdout",
     "output_type": "stream",
     "text": [
      "--------------------------------------------------------\n",
      "\n",
      "          기구이름  상태\n",
      "0       시티드로우1  중상\n",
      "1       레그프레스1   상\n",
      "2         레그컬1   중\n",
      "3        랫풀다운1   상\n",
      "4       벤치프레스1  최상\n",
      "5      레그익스텐션1   상\n",
      "6   인클라인벤치프레스1  최상\n",
      "7       브이스쿼트1   상\n",
      "8        런닝머신1   상\n",
      "9        런닝머신2   상\n",
      "10       런닝머신3   중\n",
      "11        사이클1  최상\n",
      "12        사이클2  최상\n",
      "13        사이클3  최상\n",
      "14       티바로우1  중상\n",
      "15      스미스머신1  최상\n",
      "16       바벨5kg   중\n",
      "17      바벨10kg   중\n",
      "18      바벨15kg   중\n",
      "19      바벨20kg   중\n",
      "\n",
      "\n",
      "--------------------------------------------------------\n",
      "1. 기구관리 \n",
      "2. 라커관리\n",
      "3. 트레이너관리\n",
      "4. 회원목록\n",
      "5. 종료\n"
     ]
    },
    {
     "name": "stdin",
     "output_type": "stream",
     "text": [
      "번호 선택 :  2\n"
     ]
    },
    {
     "name": "stdout",
     "output_type": "stream",
     "text": [
      "--------------------------------------------------------\n",
      "\n",
      "< 라커 목록 >\n",
      " Locker_id 성별\n",
      "         1  남\n",
      "         2  남\n",
      "         3  남\n",
      "         4  남\n",
      "         5  남\n",
      "         6  남\n",
      "         7  남\n",
      "         8  남\n",
      "         9  남\n",
      "        10  남\n",
      "        11  여\n",
      "        12  여\n",
      "        13  여\n",
      "        14  여\n",
      "        15  여\n",
      "        16  여\n",
      "        17  여\n",
      "        18  여\n",
      "        19  여\n",
      "        20  여\n",
      "\n",
      "< 사용중인 라커 목록 >\n",
      " Locker_id 성별  이름\n",
      "         1  남 이강욱\n",
      "\n",
      "< 회원 목록 >\n",
      " 이름 라커사용_유무  Locker_id\n",
      "이강욱       네        1.0\n",
      "정현경       네        NaN\n"
     ]
    },
    {
     "name": "stdin",
     "output_type": "stream",
     "text": [
      "\n",
      "라커 번호를 부여 (yes/no) : 네\n",
      "회원이름 :  정현경\n",
      "부여할 라커ID :  11\n"
     ]
    },
    {
     "name": "stdout",
     "output_type": "stream",
     "text": [
      "\n",
      "\n",
      "--------------------------------------------------------\n",
      "1. 기구관리 \n",
      "2. 라커관리\n",
      "3. 트레이너관리\n",
      "4. 회원목록\n",
      "5. 종료\n"
     ]
    },
    {
     "name": "stdin",
     "output_type": "stream",
     "text": [
      "번호 선택 :  3\n"
     ]
    },
    {
     "name": "stdout",
     "output_type": "stream",
     "text": [
      "--------------------------------------------------------\n",
      "\n",
      "Member_id 회원이름 트레이너ID 트레이너이름\n",
      "     A123  정현경    J06    주민수\n",
      "     Q012  이강욱    R01   로니콜먼\n",
      "\n",
      "\n",
      "--------------------------------------------------------\n",
      "1. 기구관리 \n",
      "2. 라커관리\n",
      "3. 트레이너관리\n",
      "4. 회원목록\n",
      "5. 종료\n"
     ]
    },
    {
     "name": "stdin",
     "output_type": "stream",
     "text": [
      "번호 선택 :  4\n"
     ]
    },
    {
     "name": "stdout",
     "output_type": "stream",
     "text": [
      "--------------------------------------------------------\n",
      "\n",
      "      Member_id            Name        Birthday       Age_group         Address           Phone          Gender   Locker_useage       Locker_id      Trainer_id   Administer_id       TotalCost\n",
      "           Q012             이강욱          000428              성인              김해     01033944618               남               네               1             R01            1001          610000\n",
      "           A123             정현경          020515              성인              진주     01012345678               여               네              11             J06            1001          540000\n",
      "\n",
      "\n",
      "--------------------------------------------------------\n",
      "1. 기구관리 \n",
      "2. 라커관리\n",
      "3. 트레이너관리\n",
      "4. 회원목록\n",
      "5. 종료\n"
     ]
    }
   ],
   "source": [
    "import pandas as pd\n",
    "from sqlalchemy import create_engine\n",
    "import sqlite3\n",
    "from sqlite3 import Error\n",
    "import os\n",
    "\n",
    "try:\n",
    "    con = sqlite3.connect('DBproject.db')\n",
    "except sqlite3.Error as e:\n",
    "    print(\"SQLite 연결 오류:\", e)\n",
    "\n",
    "database_file = 'DBproject.db'\n",
    "output_file = '머슬팩토리.xlsx'\n",
    "\n",
    "if os.path.exists(database_file):\n",
    "    conn = sqlite3.connect(database_file)\n",
    "    table_exists = True\n",
    "else:\n",
    "    conn = sqlite3.connect(database_file)\n",
    "    table_exists = False\n",
    "\n",
    "if not table_exists:    \n",
    "    conn.execute('''CREATE TABLE Member ( \n",
    "    Member_id text NOT NULL,\n",
    "    Name text Not NULL,\n",
    "    Birthday text Not NULL,\n",
    "    Age_group text Not NULL,\n",
    "    Address text Not NULL,\n",
    "    Phone text Not NULL,\n",
    "    Gender text Not NULL,\n",
    "    Locker_useage Not NULL,\n",
    "    Locker_id int NULL,\n",
    "    Trainer_id text NULL,\n",
    "    Administer_id int NOT NULL,\n",
    "    TotalCost int Not NULL,\n",
    "    \n",
    "    primary key (Member_id),\n",
    "    foreign key (Age_group) references Cost(Age_group),\n",
    "    foreign key (Locker_id) references Locker(Locker_id),\n",
    "    foreign key (Trainer_id) references Trainer(Trainer_id),\n",
    "    foreign key (Administer_id) references Administer(Administer_id)\n",
    "    );''')\n",
    "    \n",
    "    conn.execute('''CREATE TABLE Administer ( \n",
    "    Administer_id int NOT NULL,\n",
    "    Administer_name text NOT NULL,\n",
    "    \n",
    "    primary key (Administer_id)\n",
    "    );''')\n",
    "    \n",
    "    conn.execute('''CREATE TABLE Locker ( \n",
    "    Locker_id int NOT NULL,\n",
    "    Locker_gender text NOT NULL,\n",
    "    Administer_id int NOT NULL,\n",
    "    \n",
    "    primary key (Locker_id)\n",
    "    foreign key (Administer_id) references Administer(Administer_id)\n",
    "    );''')\n",
    "    \n",
    "    conn.execute('''CREATE TABLE Trainer ( \n",
    "    Trainer_id text NOT NULL,\n",
    "    Trainer_name text Not NULL,\n",
    "    Administer_id int NOT NULL,\n",
    "\n",
    "    primary key (Trainer_id),\n",
    "    foreign key (Administer_id) references Administer(Administer_id) \n",
    "    );''')\n",
    "    \n",
    "    conn.execute('''CREATE TABLE Equipment ( \n",
    "    Equipment_id text NOT NULL,\n",
    "    Equipment_Check text Not NULL,\n",
    "    Administer_id int NOT NULL,\n",
    "    \n",
    "    primary key (Equipment_id),\n",
    "    foreign key (Administer_id) references Administer(Administer_id)\n",
    "    );''')\n",
    "    \n",
    "    conn.execute('''CREATE TABLE PT ( \n",
    "    Age_group text NULL,\n",
    "    Ten int NULL,\n",
    "    Twenty int NULL,\n",
    "    Thirty int NULL\n",
    "    );''')\n",
    "    \n",
    "    conn.execute('''CREATE TABLE Cost ( \n",
    "    Age_group text NULL,\n",
    "    OneMonth int NULL,\n",
    "    ThreeMonth int NULL, \n",
    "    SixMonth int NULL,\n",
    "    Year int NULL,\n",
    "    Locker_cost int NULL\n",
    "    );''')\n",
    "    \n",
    "query = \"SELECT * FROM Member;\"\n",
    "df_member = pd.read_sql_query(query, conn)\n",
    "    \n",
    "query = \"SELECT * FROM Administer;\"\n",
    "df_administer = pd.read_sql_query(query, conn)\n",
    "\n",
    "query = \"SELECT * FROM Locker;\"\n",
    "df_locker = pd.read_sql_query(query, conn)\n",
    "\n",
    "query = \"SELECT * FROM Trainer;\"\n",
    "df_trainer = pd.read_sql_query(query, conn)\n",
    "\n",
    "query = \"SELECT * FROM Equipment;\"\n",
    "df_equipment = pd.read_sql_query(query, conn)\n",
    "\n",
    "query = \"SELECT * FROM PT;\"\n",
    "df_pt = pd.read_sql_query(query, conn)\n",
    "\n",
    "query = \"SELECT * FROM Cost;\"\n",
    "df_cost = pd.read_sql_query(query, conn)\n",
    "\n",
    "with pd.ExcelWriter(output_file) as writer:\n",
    "    df_locker.to_excel(writer, sheet_name='Locker', index=False)\n",
    "    df_administer.to_excel(writer, sheet_name='Administer', index=False)\n",
    "    df_trainer.to_excel(writer, sheet_name='Trainer', index=False)\n",
    "    df_equipment.to_excel(writer, sheet_name='Equipment', index=False)\n",
    "    df_pt.to_excel(writer, sheet_name='PT', index=False)\n",
    "    df_cost.to_excel(writer, sheet_name='Cost', index=False)\n",
    "\n",
    "print(\"Excel 파일이 생성되었습니다.\")\n",
    "\n",
    "num = 0\n",
    "\n",
    "while (num != 4):\n",
    "    print(\"\\n\\n\")\n",
    "    print(\"**************** 헬스장 관리 데이터베이스 *****************\")\n",
    "    print(\"*    1. 회원등록\")                                      \n",
    "    print(\"*    2. 트레이너 모드\")                                 \n",
    "    print(\"*    3. 관리자 모드\")\n",
    "    print(\"*    4. 종료\")\n",
    "    print(\"*********************************************************\")\n",
    "    \n",
    "    num = int(input(\"번호를 선택하세요 : \"))\n",
    "    \n",
    "    \n",
    "    if(num == 1):\n",
    "        \n",
    "        print(\"\\n------------ 회원등록을 시작하겠습니다 ------------\")\n",
    "        Member_id = input(\"회원ID : \")\n",
    "        Name = input(\"이름 : \")\n",
    "        Birthday = input(\"생년월일 : \")\n",
    "        Age_group = input(\"연령층 : \")\n",
    "        Address = input(\"거주지 : \")\n",
    "        Phone = input(\"휴대폰 번호 : \")\n",
    "        Gender = input(\"성별(남/여) : \")\n",
    "        \n",
    "        print(\"\\n< 등록금 >\")\n",
    "        query = 'SELECT DISTINCT Age_Group, OneMonth, ThreeMonth, SixMonth, Year FROM Cost'\n",
    "        cost = pd.read_sql_query(query, con)\n",
    "        print(cost.to_string(index=False, col_space=15))\n",
    "        \n",
    "        while(1) :\n",
    "            cost = int(input(\"원하시는 기간을 정하여 표를 보고 가격을 입력해주세요 : \"))\n",
    "            if (cost in [50000 ,120000, 190000, 330000, 80000, 150000, 250000, 450000, 70000, 130000, 210000, 370000]):\n",
    "                break\n",
    "            else :\n",
    "                print(\"없는 가격입니다. 다시 입력해주세요.\")\n",
    "                \n",
    "        Locker_useage = input(\"\\n라커를 이용하시겠습니까? \\n가격 - 10000원 (yes/no) : \")\n",
    "        if Locker_useage == \"yes\" or Locker_useage == \"네\":\n",
    "            locker_cost = 10000\n",
    "        else :\n",
    "            locker_cost = 0\n",
    "        \n",
    "        print(\"\\n---------------- 트레이너 배정 -----------------\")\n",
    "        query = 'SELECT DISTINCT Trainer_id as 트레이너ID, Trainer_name as 이름 FROM Trainer'\n",
    "        traniner = pd.read_sql_query(query, con)\n",
    "        print(traniner.to_string(index=False, col_space=10))\n",
    "        Trainer_id = input(\"원하시는 트레이너ID를 입력해주세요 : \")\n",
    "        \n",
    "        PT = input(\"\\nPT를 하시겠습니까? (yes/no) : \")\n",
    "        if (PT == \"yes\" or PT == \"네\") :\n",
    "            query = 'SELECT DISTINCT * FROM PT'\n",
    "            pt = pd.read_sql_query(query, con)\n",
    "            print(pt.to_string(index=False, col_space=15))\n",
    "            \n",
    "            while(1) :\n",
    "                pt_cost = int(input(\"원하시는 기간을 정하여 표를 보고 가격을 입력해주세요 : \"))\n",
    "                if (pt_cost in [300000, 500000, 600000, 450000, 700000, 850000, 350000, 460000, 530000]):\n",
    "                    break\n",
    "                else :\n",
    "                    print(\"없는 가격입니다. 다시 입력해주세요.\")\n",
    "        else :\n",
    "            pt_cost = 0\n",
    "            \n",
    "        Administer_id = int(input(\"관리자ID (회원에게는 보여주면 안됩니다.) : \"))\n",
    "        \n",
    "        TotalCost = int(cost) + int(locker_cost) + int(pt_cost)  \n",
    "        print(\"\\n총 비용은 {}원 입니다.\\n회원등록이 완료되었습니다. 감사합니다:)\\n\".format(TotalCost))\n",
    "        print(\"------------------------------------------------\")\n",
    "            \n",
    "        data_C = [(Member_id, Name, Birthday, Age_group, Address, Phone,  Gender, Locker_useage, Trainer_id, Administer_id, TotalCost)]\n",
    "        \n",
    "        cursor_db = con.cursor()\n",
    "        cursor_db.executemany('''\n",
    "        INSERT INTO Member \n",
    "        (Member_id, Name, Birthday, Age_group, Address, Phone,  Gender, Locker_useage, Trainer_id, Administer_id, TotalCost)\n",
    "        VALUES(?,?,?,?,?,?,?,?,?,?,?)''', data_C)\n",
    "        con.commit() \n",
    "    \n",
    "    \n",
    "    if(num == 2):\n",
    "        \n",
    "        print(\"\\n-------------------- 트레이너 모드 ----------------------\")\n",
    "        query = 'SELECT DISTINCT Trainer_id as 트레이너ID, Trainer_name as 이름 FROM Trainer'\n",
    "        traniner = pd.read_sql_query(query, con)\n",
    "        print(traniner.to_string(index=False,col_space=13))\n",
    "        Trainer = input(\"트레이너ID를 입력 : \")\n",
    "        \n",
    "        print(\"\\n--------------------- 지정회원 목록 --------------------- \")\n",
    "        query = f'SELECT DISTINCT Name, Locker_id, Gender, Phone FROM Member Where Trainer_id = \"{Trainer}\"'\n",
    "        t = pd.read_sql_query(query, con)\n",
    "        print(t.to_string(index=False))\n",
    "        print(\"--------------------------------------------------------\")\n",
    "        \n",
    "        \n",
    "    if(num == 3):\n",
    "        \n",
    "        print(\"\\n--------------------- 관리자모드 -----------------------\\n ** 관리자ID는 본인만 알고 있습니다. **\\n\")\n",
    "        query = 'SELECT DISTINCT Administer_name as 관리자목록 FROM Administer'\n",
    "        adm = pd.read_sql_query(query, con)\n",
    "        print(adm.to_string(index=False))\n",
    "        print(\"--------------------------------------------------------\")\n",
    "        \n",
    "        adm_id = int(input(\"\\n관리자ID를 입력해주세요 : \"))\n",
    "        if (adm_id == 1001) :\n",
    "            print(\"이강욱님, 안녕하세요\")\n",
    "        elif (adm_id == 1002) :\n",
    "            print(\"정현경님, 안녕하세요\")\n",
    "        else :\n",
    "            print(\"존재하지 않는 관리자ID 입니다.\")\n",
    "            break\n",
    "        \n",
    "        num2 = 0\n",
    "        \n",
    "        while(num2 != 5): \n",
    "            print(\"\\n\\n--------------------------------------------------------\")\n",
    "            print(\"1. 기구관리 \\n2. 라커관리\\n3. 트레이너관리\\n4. 회원목록\\n5. 종료\")\n",
    "            num2 = int(input(\"번호 선택 : \"))\n",
    "            print(\"--------------------------------------------------------\")\n",
    "        \n",
    "            if(num2 == 1):\n",
    "                print(\"\")\n",
    "                query = 'SELECT DISTINCT Equipment_id as 기구이름, Equipment_Check as 상태 FROM Equipment'\n",
    "                eq = pd.read_sql_query(query, con)\n",
    "                print(eq)\n",
    "            \n",
    "            if(num2 == 2):\n",
    "                print(\"\")\n",
    "                print(\"< 라커 목록 >\")\n",
    "                query = 'SELECT DISTINCT Locker_id , Locker_gender as 성별 FROM Locker'\n",
    "                locker = pd.read_sql_query(query, con)\n",
    "                print(locker.to_string(index=False))\n",
    "                \n",
    "                print(\"\")\n",
    "                print(\"< 사용중인 라커 목록 >\")\n",
    "                query = 'SELECT DISTINCT Locker.Locker_id , Locker_gender as 성별, Name as 이름 FROM Locker, Member WHERE Locker.Locker_id = Member.Locker_id'\n",
    "                locker = pd.read_sql_query(query, con)\n",
    "                print(locker.to_string(index=False))\n",
    "                \n",
    "                print(\"\")\n",
    "                print(\"< 회원 목록 >\")\n",
    "                query = 'SELECT DISTINCT Name as 이름, Locker_useage as 라커사용_유무, Locker_id  FROM Member'\n",
    "                member = pd.read_sql_query(query, con)\n",
    "                print(member.to_string(index=False))\n",
    "            \n",
    "                locker_num = input(\"\\n라커 번호를 부여 (yes/no) :\")\n",
    "                if (locker_num == \"yes\" or locker_num == \"네\") :\n",
    "                    cursor_db = con.cursor()\n",
    "                    name = input(\"회원이름 : \")\n",
    "                    locker_id = input(\"부여할 라커ID : \")\n",
    "                    query = 'UPDATE Member SET Locker_id=? where Name=?'\n",
    "                    cursor_db.execute(query, (locker_id, name))\n",
    "                    con.commit() \n",
    "            \n",
    "            if(num2 == 3):\n",
    "                print(\"\")\n",
    "                query = 'SELECT DISTINCT Member_id, Name as 회원이름, t.Trainer_id as 트레이너ID, Trainer_name as 트레이너이름 FROM Trainer t, Member m WHERE t.Trainer_id = m.Trainer_id'\n",
    "                traniner = pd.read_sql_query(query, con)\n",
    "                print(traniner.to_string(index=False))      \n",
    "                \n",
    "            if(num2 == 4):\n",
    "                print(\"\")\n",
    "                query = 'SELECT DISTINCT * FROM Member'\n",
    "                member = pd.read_sql_query(query, con)\n",
    "                print(member.to_string(index=False, col_space=15))\n",
    "                \n",
    "                member_list = []\n",
    "\n",
    "                for index, row in member.iterrows():\n",
    "                    member_dict = {}\n",
    "                    member_dict['Memb_id'] = row['Member_id']\n",
    "                    member_dict['Name'] = row['Name']\n",
    "                    member_dict['Birthday'] = row['Birthday']\n",
    "                    member_dict['Address'] = row['Address']\n",
    "                    member_dict['Phone'] = row['Phone']\n",
    "                    member_dict['Gender'] = row['Gender']\n",
    "    \n",
    "                    member_list.append(member_dict)\n",
    "\n",
    "\n",
    "query = \"SELECT * FROM Member;\"\n",
    "df_member = pd.read_sql_query(query, conn)\n",
    "\n",
    "with pd.ExcelWriter(output_file) as writer:\n",
    "    df_member.to_excel(writer, sheet_name='Member', index=False)\n",
    "    \n",
    "con.close()"
   ]
  },
  {
   "cell_type": "code",
   "execution_count": null,
   "id": "8fed34a9-f55b-4747-bf39-49774c8d648f",
   "metadata": {},
   "outputs": [],
   "source": []
  }
 ],
 "metadata": {
  "kernelspec": {
   "display_name": "Python 3 (ipykernel)",
   "language": "python",
   "name": "python3"
  },
  "language_info": {
   "codemirror_mode": {
    "name": "ipython",
    "version": 3
   },
   "file_extension": ".py",
   "mimetype": "text/x-python",
   "name": "python",
   "nbconvert_exporter": "python",
   "pygments_lexer": "ipython3",
   "version": "3.11.2"
  },
  "toc-autonumbering": true
 },
 "nbformat": 4,
 "nbformat_minor": 5
}
